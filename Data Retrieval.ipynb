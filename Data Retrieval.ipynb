{
 "cells": [
  {
   "cell_type": "markdown",
   "metadata": {},
   "source": [
    "# Loading the Dataset\n",
    "Out dataset can be downloaded from a remote URL, which will also require the downloaded file to be decompressed."
   ]
  },
  {
   "cell_type": "code",
   "execution_count": 27,
   "metadata": {
    "ExecuteTime": {
     "end_time": "2017-11-20T11:49:59.592095Z",
     "start_time": "2017-11-20T11:49:59.561445Z"
    }
   },
   "outputs": [],
   "source": [
    "import os\n",
    "import tarfile\n",
    "import urllib\n",
    "\n",
    "DOWNLOAD_URL = 'https://raw.githubusercontent.com/ageron/handson-ml/master/datasets/housing/housing.tgz'\n",
    "TARGET_PATH = 'data'\n",
    "TARGET_FILENAME = 'temp'\n",
    "\n",
    "def fetch_project_data(download_url, target_path, target_filename):\n",
    "    if not os.path.isdir(target_path):\n",
    "        os.makedirs(target_path)\n",
    "    _, file_extension = os.path.splitext(download_url)\n",
    "    filename = \"\".join([target_filename,file_extension])\n",
    "    path = os.path.join(target_path,filename)\n",
    "#     print(\"getting data into :\", path)\n",
    "    urllib.request.urlretrieve(download_url, path)\n",
    "    if file_extension=='.tgz':\n",
    "#         print(\"extracting data into :\", path)\n",
    "        tgz_path = os.path.join(path, filename)\n",
    "        tarfile.open(path).extractall(target_path)\n",
    "        os.remove(path)"
   ]
  },
  {
   "cell_type": "code",
   "execution_count": 30,
   "metadata": {
    "ExecuteTime": {
     "end_time": "2017-11-20T11:58:11.836578Z",
     "start_time": "2017-11-20T11:58:08.578467Z"
    }
   },
   "outputs": [
    {
     "name": "stdout",
     "output_type": "stream",
     "text": [
      "getting data into : data/temp.csv\n"
     ]
    }
   ],
   "source": [
    "## Get the data\n",
    "fetch_project_data(DOWNLOAD_URL, TARGET_PATH, TARGET_FILENAME)"
   ]
  },
  {
   "cell_type": "markdown",
   "metadata": {},
   "source": [
    "To test that the dataset has been successfully downloaded and decompressed, we load it and take a quick look at what's there."
   ]
  },
  {
   "cell_type": "code",
   "execution_count": 6,
   "metadata": {},
   "outputs": [
    {
     "name": "stdout",
     "output_type": "stream",
     "text": [
      "<class 'pandas.core.frame.DataFrame'>\n",
      "RangeIndex: 20640 entries, 0 to 20639\n",
      "Data columns (total 10 columns):\n",
      "longitude             20640 non-null float64\n",
      "latitude              20640 non-null float64\n",
      "housing_median_age    20640 non-null float64\n",
      "total_rooms           20640 non-null float64\n",
      "total_bedrooms        20433 non-null float64\n",
      "population            20640 non-null float64\n",
      "households            20640 non-null float64\n",
      "median_income         20640 non-null float64\n",
      "median_house_value    20640 non-null float64\n",
      "ocean_proximity       20640 non-null object\n",
      "dtypes: float64(9), object(1)\n",
      "memory usage: 1.6+ MB\n"
     ]
    }
   ],
   "source": [
    "import pandas as pd\n",
    "\n",
    "housing_data = pd.read_csv('data/housing.csv')\n",
    "housing_data.info()"
   ]
  },
  {
   "cell_type": "markdown",
   "metadata": {},
   "source": [
    "## Split Data into Train and Test Sets\n",
    "We use a simple (purely random) splitting of the dataset into 'test' and 'train' subsets. A better solution would be to use `StratifiedShuffleSplit` working on categories of median income. For didactic reasons our approach will do just fine."
   ]
  },
  {
   "cell_type": "code",
   "execution_count": 7,
   "metadata": {
    "collapsed": true
   },
   "outputs": [],
   "source": [
    "from sklearn.model_selection import train_test_split\n",
    "\n",
    "housing_train, housing_test = train_test_split(housing_data, test_size = 0.2, random_state = 43)\n",
    "\n",
    "housing_train.to_csv('data/housing_train.csv', index=False)\n",
    "housing_test.to_csv('data/housing_test.csv', index=False)"
   ]
  }
 ],
 "metadata": {
  "celltoolbar": "Raw Cell Format",
  "kernelspec": {
   "display_name": "Python 3",
   "language": "python",
   "name": "python3"
  },
  "language_info": {
   "codemirror_mode": {
    "name": "ipython",
    "version": 3
   },
   "file_extension": ".py",
   "mimetype": "text/x-python",
   "name": "python",
   "nbconvert_exporter": "python",
   "pygments_lexer": "ipython3",
   "version": "3.6.2"
  },
  "toc": {
   "collapse_to_match_collapsible_headings": false,
   "colors": {
    "hover_highlight": "#DAA520",
    "navigate_num": "#000000",
    "navigate_text": "#333333",
    "running_highlight": "#FF0000",
    "selected_highlight": "#FFD700",
    "sidebar_border": "#EEEEEE",
    "wrapper_background": "#FFFFFF"
   },
   "moveMenuLeft": true,
   "nav_menu": {
    "height": "63px",
    "width": "252px"
   },
   "navigate_menu": true,
   "number_sections": true,
   "sideBar": true,
   "skip_h1_title": false,
   "threshold": 4,
   "toc_cell": false,
   "toc_section_display": "block",
   "toc_window_display": false,
   "widenNotebook": false
  }
 },
 "nbformat": 4,
 "nbformat_minor": 2
}
